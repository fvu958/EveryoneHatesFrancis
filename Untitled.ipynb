{
 "cells": [
  {
   "cell_type": "code",
   "execution_count": 1,
   "metadata": {},
   "outputs": [
    {
     "ename": "SyntaxError",
     "evalue": "unexpected EOF while parsing (<ipython-input-1-a946555c38fe>, line 10)",
     "output_type": "error",
     "traceback": [
      "\u001b[1;36m  File \u001b[1;32m\"<ipython-input-1-a946555c38fe>\"\u001b[1;36m, line \u001b[1;32m10\u001b[0m\n\u001b[1;33m    pd.read_csv(###)\u001b[0m\n\u001b[1;37m                    ^\u001b[0m\n\u001b[1;31mSyntaxError\u001b[0m\u001b[1;31m:\u001b[0m unexpected EOF while parsing\n"
     ]
    }
   ],
   "source": [
    "import tweepy\n",
    "import json\n",
    "import pandas as pd\n",
    "import numpy as np\n",
    "import matplotlib.pyplot as plt\n",
    "import seaborn as sns\n",
    "import wikipedia\n",
    "import os\n",
    "\n",
    "movie_data = pd.read_csv(###)"
   ]
  },
  {
   "cell_type": "code",
   "execution_count": 2,
   "metadata": {},
   "outputs": [
    {
     "ename": "SyntaxError",
     "evalue": "unexpected EOF while parsing (<ipython-input-2-43ee8b92fbd1>, line 13)",
     "output_type": "error",
     "traceback": [
      "\u001b[1;36m  File \u001b[1;32m\"<ipython-input-2-43ee8b92fbd1>\"\u001b[1;36m, line \u001b[1;32m13\u001b[0m\n\u001b[1;33m    baseline_movie_info\u001b[0m\n\u001b[1;37m                       ^\u001b[0m\n\u001b[1;31mSyntaxError\u001b[0m\u001b[1;31m:\u001b[0m unexpected EOF while parsing\n"
     ]
    }
   ],
   "source": [
    "#average score\n",
    "\n",
    "average_movie_budget = movie_data['budget'].mean()\n",
    "average_movie_rating = movie_data['vote_average'].mean()\n",
    "average_movie_revenue = movie_data['revenue'].mean()\n",
    "\n",
    "\n",
    "baseline_movie_info = pd.Dataframe({\n",
    "        'Average Movie Score': [average_movie_rating],\n",
    "        'Average Movie Budget': [average_movie_budget],\n",
    "        'Average Movie Profitabliity' : [average_movie_revenue - average_movie_budget],\n",
    "\n",
    "print(baseline_movie_info)"
   ]
  },
  {
   "cell_type": "code",
   "execution_count": null,
   "metadata": {},
   "outputs": [],
   "source": []
  }
 ],
 "metadata": {
  "kernelspec": {
   "display_name": "Python 3",
   "language": "python",
   "name": "python3"
  },
  "language_info": {
   "codemirror_mode": {
    "name": "ipython",
    "version": 3
   },
   "file_extension": ".py",
   "mimetype": "text/x-python",
   "name": "python",
   "nbconvert_exporter": "python",
   "pygments_lexer": "ipython3",
   "version": "3.6.4"
  }
 },
 "nbformat": 4,
 "nbformat_minor": 2
}
